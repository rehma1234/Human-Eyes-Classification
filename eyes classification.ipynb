{
 "cells": [
  {
   "cell_type": "markdown",
   "id": "b9edea60",
   "metadata": {},
   "source": [
    "# Project 3 – Eyes Classification\n",
    "<br>\n",
    "\n",
    "## Implementing a classifier using a Neural network using Keras Framework to determine gender by eye.\n",
    "\n",
    "\n"
   ]
  },
  {
   "cell_type": "code",
   "execution_count": 56,
   "id": "ff7bd077",
   "metadata": {},
   "outputs": [],
   "source": [
    "## Importing the neccesary libraries\n",
    "\n",
    "import numpy as np\n",
    "import pandas as pd\n",
    "import matplotlib.pyplot as plt\n",
    "\n",
    "from sklearn.neighbors import KNeighborsClassifier\n",
    "from sklearn.svm import SVC\n",
    "from sklearn.pipeline import make_pipeline\n",
    "from sklearn.preprocessing import StandardScaler\n",
    "from sklearn.model_selection import train_test_split\n",
    "from sklearn import metrics\n",
    "from sklearn.metrics import confusion_matrix,classification_report,accuracy_score\n",
    "\n",
    "import tensorflow as tf \n",
    "from tensorflow.keras import datasets, layers, models\n",
    "from tensorflow.keras.models import Sequential\n",
    "from tensorflow.keras.layers import Dense\n",
    "from tensorflow.keras.utils import to_categorical\n",
    "\n",
    "import os\n",
    "import cv2\n",
    "import random"
   ]
  },
  {
   "cell_type": "code",
   "execution_count": 57,
   "id": "16f5626b",
   "metadata": {},
   "outputs": [],
   "source": [
    "Directory = \"/Users/rehman/Desktop/college stuff/2nd sem/neural networks/Project 3 – Eyes Classification\"\n",
    "Classes = [\"maleeyes\",\"femaleeyes\"]\n",
    "## Defining the dimensions of the image\n",
    "Img_size = 50"
   ]
  },
  {
   "cell_type": "markdown",
   "id": "aa511887",
   "metadata": {},
   "source": [
    "As stated above, the dataset has two folders Training and Validation, each having two classes male and female"
   ]
  },
  {
   "cell_type": "code",
   "execution_count": 58,
   "id": "8fde8a1f",
   "metadata": {},
   "outputs": [
    {
     "data": {
      "text/plain": [
       "[[array([[191, 193, 192, ...,  81,  95,  97],\n",
       "         [199, 201, 197, ...,  65,  81,  87],\n",
       "         [191, 195, 196, ...,  56,  60,  70],\n",
       "         ...,\n",
       "         [106, 105, 107, ..., 140, 142, 142],\n",
       "         [107, 107, 107, ..., 143, 145, 144],\n",
       "         [107, 108, 109, ..., 147, 148, 145]], dtype=uint8),\n",
       "  0],\n",
       " [array([[200, 186, 182, ..., 186, 188, 184],\n",
       "         [198, 184, 177, ..., 180, 179, 177],\n",
       "         [193, 180, 169, ..., 180, 182, 181],\n",
       "         ...,\n",
       "         [154, 173, 189, ..., 186, 184, 181],\n",
       "         [159, 164, 184, ..., 191, 188, 184],\n",
       "         [168, 167, 184, ..., 192, 190, 188]], dtype=uint8),\n",
       "  0],\n",
       " [array([[ 89, 100, 109, ..., 234, 234, 234],\n",
       "         [107, 115, 120, ..., 235, 235, 234],\n",
       "         [127, 121, 115, ..., 236, 235, 234],\n",
       "         ...,\n",
       "         [157, 157, 160, ..., 193, 191, 190],\n",
       "         [159, 160, 161, ..., 197, 193, 191],\n",
       "         [159, 160, 161, ..., 198, 193, 190]], dtype=uint8),\n",
       "  0],\n",
       " [array([[158, 156, 158, ..., 191, 191, 192],\n",
       "         [146, 151, 154, ..., 191, 193, 193],\n",
       "         [128, 142, 147, ..., 192, 194, 194],\n",
       "         ...,\n",
       "         [ 47, 103, 128, ..., 182, 193, 199],\n",
       "         [ 48,  96, 127, ..., 184, 189, 197],\n",
       "         [ 52,  97, 128, ..., 180, 183, 193]], dtype=uint8),\n",
       "  0]]"
      ]
     },
     "execution_count": 58,
     "metadata": {},
     "output_type": "execute_result"
    }
   ],
   "source": [
    "## Defining the image loading function\n",
    "\n",
    "data = []\n",
    "\n",
    "def load_image_data():\n",
    "    for category in Classes:  \n",
    "\n",
    "        path = os.path.join(Directory,category)  \n",
    "        class_num = Classes.index(category) \n",
    "\n",
    "        for img in os.listdir(path): \n",
    "            try:\n",
    "                img_array = cv2.imread(os.path.join(path,img) ,cv2.IMREAD_GRAYSCALE)  \n",
    "                new_array = cv2.resize(img_array, (Img_size, Img_size))  \n",
    "                data.append([new_array, class_num])  \n",
    "            except Exception as e:  \n",
    "                pass\n",
    "## Loading the images\n",
    "load_image_data()\n",
    "data[1:5]"
   ]
  },
  {
   "cell_type": "code",
   "execution_count": 59,
   "id": "43a506e9",
   "metadata": {},
   "outputs": [
    {
     "name": "stdout",
     "output_type": "stream",
     "text": [
      "[[[[208]\n",
      "   [216]\n",
      "   [213]\n",
      "   ...\n",
      "   [115]\n",
      "   [112]\n",
      "   [121]]\n",
      "\n",
      "  [[207]\n",
      "   [206]\n",
      "   [206]\n",
      "   ...\n",
      "   [121]\n",
      "   [120]\n",
      "   [119]]\n",
      "\n",
      "  [[206]\n",
      "   [204]\n",
      "   [203]\n",
      "   ...\n",
      "   [114]\n",
      "   [115]\n",
      "   [122]]\n",
      "\n",
      "  ...\n",
      "\n",
      "  [[107]\n",
      "   [111]\n",
      "   [115]\n",
      "   ...\n",
      "   [156]\n",
      "   [157]\n",
      "   [156]]\n",
      "\n",
      "  [[107]\n",
      "   [109]\n",
      "   [112]\n",
      "   ...\n",
      "   [155]\n",
      "   [156]\n",
      "   [153]]\n",
      "\n",
      "  [[106]\n",
      "   [110]\n",
      "   [116]\n",
      "   ...\n",
      "   [154]\n",
      "   [154]\n",
      "   [152]]]]\n"
     ]
    }
   ],
   "source": [
    "## Random shuffleing the data for the model\n",
    "random.shuffle(data)\n",
    "## Defining the features x and target y\n",
    "\n",
    "x = []\n",
    "y = []\n",
    "\n",
    "for features,label in data:\n",
    "    x.append(features)\n",
    "    y.append(label)\n",
    "\n",
    "print(x[0].reshape(-1, Img_size, Img_size, 1))\n",
    "\n",
    "x = np.array(x).reshape(-1, Img_size, Img_size, 1)\n",
    "y = np.array(y)"
   ]
  },
  {
   "cell_type": "code",
   "execution_count": 60,
   "id": "3c88bc16",
   "metadata": {},
   "outputs": [],
   "source": [
    "# Splitting the data\n",
    "X_train, X_test, y_train, y_test = train_test_split(x, y, test_size=0.30, random_state=0)\n"
   ]
  },
  {
   "cell_type": "code",
   "execution_count": 61,
   "id": "01c156cd",
   "metadata": {},
   "outputs": [
    {
     "data": {
      "text/plain": [
       "<matplotlib.image.AxesImage at 0x7fbfd28ca310>"
      ]
     },
     "execution_count": 61,
     "metadata": {},
     "output_type": "execute_result"
    },
    {
     "data": {
      "image/png": "[encoded data removed]",
      "text/plain": [
       "<Figure size 432x288 with 1 Axes>"
      ]
     },
     "metadata": {
      "needs_background": "light"
     },
     "output_type": "display_data"
    }
   ],
   "source": [
    "plt.imshow(X_train[10])"
   ]
  },
  {
   "cell_type": "markdown",
   "id": "a17de6f9",
   "metadata": {},
   "source": [
    "## SVM classifier"
   ]
  },
  {
   "cell_type": "code",
   "execution_count": 62,
   "id": "75c076c1",
   "metadata": {},
   "outputs": [],
   "source": [
    "## SVM classifier\n",
    "\n",
    "model_svc = make_pipeline(StandardScaler(), SVC(gamma='auto'))"
   ]
  },
  {
   "cell_type": "code",
   "execution_count": 63,
   "id": "7a4c074e",
   "metadata": {},
   "outputs": [
    {
     "data": {
      "text/plain": [
       "(3449, 50, 50, 1)"
      ]
     },
     "execution_count": 63,
     "metadata": {},
     "output_type": "execute_result"
    }
   ],
   "source": [
    "X_test.shape"
   ]
  },
  {
   "cell_type": "code",
   "execution_count": 64,
   "id": "b5403695",
   "metadata": {},
   "outputs": [],
   "source": [
    "## Reducing dimensionality because Sklearn KNN only takes 2d arrays\n",
    "x_tr_knn = np.array(X_train).reshape(8045,-1)\n",
    "y_tr_knn = np .array(y_train)\n",
    "\n",
    "x_tst_knn = np.array(X_test).reshape(3449, -1)\n",
    "y_tst_knn = np.array(y_test)"
   ]
  },
  {
   "cell_type": "code",
   "execution_count": 65,
   "id": "ac05d7d9",
   "metadata": {},
   "outputs": [],
   "source": [
    "x_tst_knn = np.array(X_test).reshape(3449, -1)"
   ]
  },
  {
   "cell_type": "code",
   "execution_count": 66,
   "id": "7807f027",
   "metadata": {},
   "outputs": [
    {
     "data": {
      "text/plain": [
       "(3449,)"
      ]
     },
     "execution_count": 66,
     "metadata": {},
     "output_type": "execute_result"
    }
   ],
   "source": [
    "y_test.shape"
   ]
  },
  {
   "cell_type": "code",
   "execution_count": 67,
   "id": "518c7bd0",
   "metadata": {},
   "outputs": [
    {
     "data": {
      "text/plain": [
       "Pipeline(steps=[('standardscaler', StandardScaler()),\n",
       "                ('svc', SVC(gamma='auto'))])"
      ]
     },
     "execution_count": 67,
     "metadata": {},
     "output_type": "execute_result"
    }
   ],
   "source": [
    "model_svc.fit(x_tr_knn, y_train)"
   ]
  },
  {
   "cell_type": "code",
   "execution_count": 68,
   "id": "98747bfc",
   "metadata": {},
   "outputs": [],
   "source": [
    "y_pred = model_svc.predict(x_tst_knn)"
   ]
  },
  {
   "cell_type": "code",
   "execution_count": 69,
   "id": "7f71c8dc",
   "metadata": {},
   "outputs": [
    {
     "name": "stdout",
     "output_type": "stream",
     "text": [
      "Precision: 0.8833107191316146\n",
      "\n",
      "Accuracy: 0.874746303276312\n",
      "\n",
      "Recall: 0.8335467349551856\n"
     ]
    }
   ],
   "source": [
    "print(\"Precision:\",metrics.precision_score(y_test, y_pred))\n",
    "print(\"\\nAccuracy:\",metrics.accuracy_score(y_test, y_pred))\n",
    "print(\"\\nRecall:\",metrics.recall_score(y_test, y_pred))"
   ]
  },
  {
   "cell_type": "code",
   "execution_count": 70,
   "id": "80c40bb2",
   "metadata": {},
   "outputs": [
    {
     "name": "stdout",
     "output_type": "stream",
     "text": [
      "[[1715  172]\n",
      " [ 260 1302]]\n",
      "              precision    recall  f1-score   support\n",
      "\n",
      "           0       0.87      0.91      0.89      1887\n",
      "           1       0.88      0.83      0.86      1562\n",
      "\n",
      "    accuracy                           0.87      3449\n",
      "   macro avg       0.88      0.87      0.87      3449\n",
      "weighted avg       0.88      0.87      0.87      3449\n",
      "\n"
     ]
    }
   ],
   "source": [
    "print(confusion_matrix(y_test, y_pred))\n",
    "print(classification_report(y_test, y_pred))"
   ]
  },
  {
   "cell_type": "markdown",
   "id": "a710cf3b",
   "metadata": {},
   "source": [
    "## Multilayer preceptron model"
   ]
  },
  {
   "cell_type": "code",
   "execution_count": 71,
   "id": "19853cf1",
   "metadata": {},
   "outputs": [],
   "source": [
    "# Configuration options\n",
    "feature_vector_length = 2500\n",
    "num_classes = 2"
   ]
  },
  {
   "cell_type": "code",
   "execution_count": 72,
   "id": "b40c0166",
   "metadata": {},
   "outputs": [],
   "source": [
    "# Reshape the data - MLPs do not understand such things as '2D'.\n",
    "# Reshape to 28 x 28 pixels = 784 features\n",
    "X_train_mlp = X_train.reshape(X_train.shape[0], feature_vector_length)\n",
    "X_test_mlp = X_test.reshape(X_test.shape[0], feature_vector_length)"
   ]
  },
  {
   "cell_type": "code",
   "execution_count": 73,
   "id": "65a63835",
   "metadata": {},
   "outputs": [
    {
     "data": {
      "text/plain": [
       "(8045, 2500)"
      ]
     },
     "execution_count": 73,
     "metadata": {},
     "output_type": "execute_result"
    }
   ],
   "source": [
    "X_train_mlp.shape"
   ]
  },
  {
   "cell_type": "code",
   "execution_count": 74,
   "id": "4fed98ee",
   "metadata": {},
   "outputs": [],
   "source": [
    "Y_train_mlp = to_categorical(y_train, num_classes)\n",
    "Y_test_mlp = to_categorical(y_test, num_classes)"
   ]
  },
  {
   "cell_type": "code",
   "execution_count": 75,
   "id": "88d8397c",
   "metadata": {},
   "outputs": [
    {
     "data": {
      "text/plain": [
       "(8045, 2)"
      ]
     },
     "execution_count": 75,
     "metadata": {},
     "output_type": "execute_result"
    }
   ],
   "source": [
    "Y_train_mlp.shape"
   ]
  },
  {
   "cell_type": "code",
   "execution_count": 76,
   "id": "2e2e4b76",
   "metadata": {},
   "outputs": [],
   "source": [
    "input_shape = (feature_vector_length,)"
   ]
  },
  {
   "cell_type": "code",
   "execution_count": 77,
   "id": "9d7b78c8",
   "metadata": {},
   "outputs": [],
   "source": [
    "model = Sequential()\n",
    "model.add(Dense(260, input_shape=input_shape, activation='relu'))\n",
    "model.add(Dense(140, activation='relu'))\n",
    "model.add(Dense(30, activation='relu'))\n",
    "model.add(Dense(num_classes, activation='softmax'))\n"
   ]
  },
  {
   "cell_type": "code",
   "execution_count": 78,
   "id": "7c9c46d6",
   "metadata": {},
   "outputs": [],
   "source": [
    "model.compile(loss='categorical_crossentropy', optimizer='adam', metrics=['accuracy'])"
   ]
  },
  {
   "cell_type": "code",
   "execution_count": 79,
   "id": "adcfe3b5",
   "metadata": {
    "scrolled": false
   },
   "outputs": [
    {
     "name": "stdout",
     "output_type": "stream",
     "text": [
      "Epoch 1/40\n",
      "81/81 [==============================] - 1s 5ms/step - loss: 23.9382 - accuracy: 0.5743 - val_loss: 1.8218 - val_accuracy: 0.7470\n",
      "Epoch 2/40\n",
      "81/81 [==============================] - 0s 4ms/step - loss: 9.9452 - accuracy: 0.6210 - val_loss: 2.9053 - val_accuracy: 0.7122\n",
      "Epoch 3/40\n",
      "81/81 [==============================] - 0s 4ms/step - loss: 3.8875 - accuracy: 0.6692 - val_loss: 3.2600 - val_accuracy: 0.6532\n",
      "Epoch 4/40\n",
      "81/81 [==============================] - 0s 4ms/step - loss: 2.9251 - accuracy: 0.6833 - val_loss: 2.3727 - val_accuracy: 0.7129\n",
      "Epoch 5/40\n",
      "81/81 [==============================] - 0s 4ms/step - loss: 3.3544 - accuracy: 0.6796 - val_loss: 2.6124 - val_accuracy: 0.6955\n",
      "Epoch 6/40\n",
      "81/81 [==============================] - 0s 4ms/step - loss: 2.8032 - accuracy: 0.6726 - val_loss: 1.2983 - val_accuracy: 0.7763\n",
      "Epoch 7/40\n",
      "81/81 [==============================] - 0s 4ms/step - loss: 1.8428 - accuracy: 0.7107 - val_loss: 1.6467 - val_accuracy: 0.7154\n",
      "Epoch 8/40\n",
      "81/81 [==============================] - 0s 4ms/step - loss: 2.0492 - accuracy: 0.6827 - val_loss: 2.2240 - val_accuracy: 0.6296\n",
      "Epoch 9/40\n",
      "81/81 [==============================] - 0s 4ms/step - loss: 1.0332 - accuracy: 0.7711 - val_loss: 1.3332 - val_accuracy: 0.7042\n",
      "Epoch 10/40\n",
      "81/81 [==============================] - 0s 4ms/step - loss: 1.2795 - accuracy: 0.7129 - val_loss: 4.8025 - val_accuracy: 0.5755\n",
      "Epoch 11/40\n",
      "81/81 [==============================] - 0s 4ms/step - loss: 2.2708 - accuracy: 0.6911 - val_loss: 0.7663 - val_accuracy: 0.7763\n",
      "Epoch 12/40\n",
      "81/81 [==============================] - 0s 4ms/step - loss: 0.7980 - accuracy: 0.7643 - val_loss: 1.0957 - val_accuracy: 0.6973\n",
      "Epoch 13/40\n",
      "81/81 [==============================] - 0s 4ms/step - loss: 0.5519 - accuracy: 0.8072 - val_loss: 1.1385 - val_accuracy: 0.6812\n",
      "Epoch 14/40\n",
      "81/81 [==============================] - 0s 4ms/step - loss: 0.7074 - accuracy: 0.7595 - val_loss: 0.5603 - val_accuracy: 0.8104\n",
      "Epoch 15/40\n",
      "81/81 [==============================] - 0s 4ms/step - loss: 0.7983 - accuracy: 0.7587 - val_loss: 0.4992 - val_accuracy: 0.8260\n",
      "Epoch 16/40\n",
      "81/81 [==============================] - 0s 4ms/step - loss: 0.7334 - accuracy: 0.7702 - val_loss: 0.6125 - val_accuracy: 0.8067\n",
      "Epoch 17/40\n",
      "81/81 [==============================] - 0s 4ms/step - loss: 0.5218 - accuracy: 0.8042 - val_loss: 0.4564 - val_accuracy: 0.8285\n",
      "Epoch 18/40\n",
      "81/81 [==============================] - 0s 4ms/step - loss: 0.4376 - accuracy: 0.8213 - val_loss: 0.4495 - val_accuracy: 0.8322\n",
      "Epoch 19/40\n",
      "81/81 [==============================] - 0s 4ms/step - loss: 0.6023 - accuracy: 0.7716 - val_loss: 0.4577 - val_accuracy: 0.8316\n",
      "Epoch 20/40\n",
      "81/81 [==============================] - 0s 4ms/step - loss: 0.5377 - accuracy: 0.7856 - val_loss: 0.8790 - val_accuracy: 0.7042\n",
      "Epoch 21/40\n",
      "81/81 [==============================] - 0s 4ms/step - loss: 0.4580 - accuracy: 0.8167 - val_loss: 0.6260 - val_accuracy: 0.7632\n",
      "Epoch 22/40\n",
      "81/81 [==============================] - 0s 4ms/step - loss: 0.4975 - accuracy: 0.8039 - val_loss: 0.4056 - val_accuracy: 0.8428\n",
      "Epoch 23/40\n",
      "81/81 [==============================] - 0s 4ms/step - loss: 0.4970 - accuracy: 0.7958 - val_loss: 0.4045 - val_accuracy: 0.8316\n",
      "Epoch 24/40\n",
      "81/81 [==============================] - 0s 4ms/step - loss: 0.5101 - accuracy: 0.7958 - val_loss: 0.4250 - val_accuracy: 0.8278\n",
      "Epoch 25/40\n",
      "81/81 [==============================] - 0s 4ms/step - loss: 0.3933 - accuracy: 0.8323 - val_loss: 0.3788 - val_accuracy: 0.8515\n",
      "Epoch 26/40\n",
      "81/81 [==============================] - 0s 4ms/step - loss: 0.3802 - accuracy: 0.8389 - val_loss: 0.6533 - val_accuracy: 0.7241\n",
      "Epoch 27/40\n",
      "81/81 [==============================] - 0s 4ms/step - loss: 0.4624 - accuracy: 0.8044 - val_loss: 0.4077 - val_accuracy: 0.8297\n",
      "Epoch 28/40\n",
      "81/81 [==============================] - 0s 4ms/step - loss: 0.3855 - accuracy: 0.8342 - val_loss: 0.3568 - val_accuracy: 0.8539\n",
      "Epoch 29/40\n",
      "81/81 [==============================] - 0s 4ms/step - loss: 0.3643 - accuracy: 0.8442 - val_loss: 0.5668 - val_accuracy: 0.7856\n",
      "Epoch 30/40\n",
      "81/81 [==============================] - 0s 4ms/step - loss: 0.3960 - accuracy: 0.8296 - val_loss: 0.3677 - val_accuracy: 0.8502\n",
      "Epoch 31/40\n",
      "81/81 [==============================] - 0s 4ms/step - loss: 0.4231 - accuracy: 0.8226 - val_loss: 0.3750 - val_accuracy: 0.8434\n",
      "Epoch 32/40\n",
      "81/81 [==============================] - 0s 4ms/step - loss: 0.3810 - accuracy: 0.8397 - val_loss: 0.4007 - val_accuracy: 0.8328\n",
      "Epoch 33/40\n",
      "81/81 [==============================] - 0s 4ms/step - loss: 0.3555 - accuracy: 0.8505 - val_loss: 0.3644 - val_accuracy: 0.8446\n",
      "Epoch 34/40\n",
      "81/81 [==============================] - 0s 4ms/step - loss: 0.3500 - accuracy: 0.8470 - val_loss: 0.3822 - val_accuracy: 0.8440\n",
      "Epoch 35/40\n",
      "81/81 [==============================] - 0s 4ms/step - loss: 0.3598 - accuracy: 0.8404 - val_loss: 0.4082 - val_accuracy: 0.8334\n",
      "Epoch 36/40\n",
      "81/81 [==============================] - 0s 4ms/step - loss: 0.3871 - accuracy: 0.8345 - val_loss: 0.3945 - val_accuracy: 0.8310\n",
      "Epoch 37/40\n",
      "81/81 [==============================] - 0s 4ms/step - loss: 0.3748 - accuracy: 0.8319 - val_loss: 0.4248 - val_accuracy: 0.8210\n",
      "Epoch 38/40\n",
      "81/81 [==============================] - 0s 4ms/step - loss: 0.4478 - accuracy: 0.8070 - val_loss: 0.3780 - val_accuracy: 0.8515\n",
      "Epoch 39/40\n",
      "81/81 [==============================] - 0s 4ms/step - loss: 0.3416 - accuracy: 0.8550 - val_loss: 0.4042 - val_accuracy: 0.8415\n",
      "Epoch 40/40\n",
      "81/81 [==============================] - 0s 4ms/step - loss: 0.3623 - accuracy: 0.8407 - val_loss: 0.3643 - val_accuracy: 0.8471\n"
     ]
    }
   ],
   "source": [
    "history = model.fit(X_train_mlp, Y_train_mlp, epochs=40, batch_size=80, verbose=1, validation_split=0.2)"
   ]
  },
  {
   "cell_type": "markdown",
   "id": "dc798ec1",
   "metadata": {},
   "source": [
    "As we can see accuracy have increased from 57 to 84 percent"
   ]
  },
  {
   "cell_type": "markdown",
   "id": "b18b3519",
   "metadata": {},
   "source": [
    "## Graphical representation"
   ]
  },
  {
   "cell_type": "code",
   "execution_count": 82,
   "id": "0f290bd6",
   "metadata": {
    "scrolled": true
   },
   "outputs": [
    {
     "name": "stdout",
     "output_type": "stream",
     "text": [
      "108/108 - 0s - loss: 0.3562 - accuracy: 0.8492 - 150ms/epoch - 1ms/step\n"
     ]
    },
    {
     "data": {
      "image/png": "[encoded data removed]",
      "text/plain": [
       "<Figure size 432x288 with 1 Axes>"
      ]
     },
     "metadata": {
      "needs_background": "light"
     },
     "output_type": "display_data"
    }
   ],
   "source": [
    "plt.plot(history.history['accuracy'], label='accuracy')\n",
    "plt.plot(history.history['val_accuracy'], label = 'val_accuracy')\n",
    "plt.xlabel('Epoch')\n",
    "plt.ylabel('Accuracy')\n",
    "plt.ylim([0.5, 1])\n",
    "plt.legend(loc='lower right')\n",
    "\n",
    "test_loss, test_acc = model.evaluate(X_test_mlp,  Y_test_mlp, verbose=2)"
   ]
  },
  {
   "cell_type": "code",
   "execution_count": 39,
   "id": "6f60cf47",
   "metadata": {},
   "outputs": [
    {
     "data": {
      "image/png": "[encoded data removed]",
      "text/plain": [
       "<Figure size 432x288 with 1 Axes>"
      ]
     },
     "metadata": {
      "needs_background": "light"
     },
     "output_type": "display_data"
    }
   ],
   "source": [
    "plt.plot(history.history['loss'])\n",
    "plt.plot(history.history['val_loss'])\n",
    "plt.title('model loss')\n",
    "plt.ylabel('loss')\n",
    "plt.xlabel('epoch')\n",
    "plt.legend(['loss', 'val_loss'], loc='upper left')\n",
    "plt.show()"
   ]
  },
  {
   "cell_type": "markdown",
   "id": "7fac259f",
   "metadata": {},
   "source": [
    "## CNN model"
   ]
  },
  {
   "cell_type": "code",
   "execution_count": 40,
   "id": "a26aba49",
   "metadata": {},
   "outputs": [],
   "source": [
    "model = models.Sequential()\n",
    "\n",
    "\n",
    "model.add(layers.Conv2D(32, (3, 3), activation='relu',input_shape= (50,50,1) ))\n",
    "model.add(layers.MaxPooling2D((2, 2)))\n",
    "model.add(layers.BatchNormalization())\n",
    "model.add(layers.Dropout(0.2))\n",
    "model.add(layers.Conv2D(32, (3, 3), activation='relu'))\n",
    "model.add(layers.MaxPooling2D((2, 2)))\n",
    "model.add(layers.Conv2D(16, (3, 3), activation='relu'))\n",
    "model.add(layers.MaxPooling2D((2, 2)))\n",
    "model.add(layers.Conv2D(8, (2, 2), activation='relu'))\n",
    "model.add(layers.Flatten())\n",
    "model.add(layers.Dense(16, activation='relu'))\n",
    "model.add(layers.Dense(2, activation='sigmoid'))\n"
   ]
  },
  {
   "cell_type": "code",
   "execution_count": 41,
   "id": "bf86fb60",
   "metadata": {},
   "outputs": [],
   "source": [
    "model.compile(optimizer='rmsprop',\n",
    "              loss=tf.keras.losses.SparseCategoricalCrossentropy(from_logits=True),\n",
    "              metrics=['accuracy'])"
   ]
  },
  {
   "cell_type": "code",
   "execution_count": 42,
   "id": "39968b70",
   "metadata": {},
   "outputs": [
    {
     "name": "stdout",
     "output_type": "stream",
     "text": [
      "Epoch 1/7\n"
     ]
    },
    {
     "name": "stderr",
     "output_type": "stream",
     "text": [
      "/opt/anaconda3/lib/python3.8/site-packages/tensorflow/python/util/dispatch.py:1096: UserWarning: \"`sparse_categorical_crossentropy` received `from_logits=True`, but the `output` argument was produced by a sigmoid or softmax activation and thus does not represent logits. Was this intended?\"\n"
     ]
    },
    {
     "name": "stdout",
     "output_type": "stream",
     "text": [
      "161/161 [==============================] - 12s 71ms/step - loss: 0.5601 - accuracy: 0.7141 - val_loss: 0.4979 - val_accuracy: 0.7565\n",
      "Epoch 2/7\n",
      "161/161 [==============================] - 11s 69ms/step - loss: 0.4323 - accuracy: 0.8011 - val_loss: 0.4075 - val_accuracy: 0.8170\n",
      "Epoch 3/7\n",
      "161/161 [==============================] - 11s 68ms/step - loss: 0.3751 - accuracy: 0.8303 - val_loss: 0.3557 - val_accuracy: 0.8466\n",
      "Epoch 4/7\n",
      "161/161 [==============================] - 11s 68ms/step - loss: 0.3492 - accuracy: 0.8507 - val_loss: 0.3335 - val_accuracy: 0.8562\n",
      "Epoch 5/7\n",
      "161/161 [==============================] - 11s 66ms/step - loss: 0.3209 - accuracy: 0.8636 - val_loss: 0.3193 - val_accuracy: 0.8660\n",
      "Epoch 6/7\n",
      "161/161 [==============================] - 11s 67ms/step - loss: 0.3081 - accuracy: 0.8702 - val_loss: 0.2961 - val_accuracy: 0.8768\n",
      "Epoch 7/7\n",
      "161/161 [==============================] - 11s 67ms/step - loss: 0.2841 - accuracy: 0.8793 - val_loss: 0.3218 - val_accuracy: 0.8617\n"
     ]
    }
   ],
   "source": [
    "history = model.fit(X_train, y_train, epochs=7, batch_size= 50,\n",
    "                    validation_data=(X_test, y_test))"
   ]
  },
  {
   "cell_type": "code",
   "execution_count": 43,
   "id": "bd9c20e5",
   "metadata": {},
   "outputs": [
    {
     "name": "stdout",
     "output_type": "stream",
     "text": [
      "108/108 - 1s - loss: 0.3218 - accuracy: 0.8617 - 1s/epoch - 9ms/step\n"
     ]
    },
    {
     "data": {
      "image/png": "[encoded data removed]",
      "text/plain": [
       "<Figure size 432x288 with 1 Axes>"
      ]
     },
     "metadata": {
      "needs_background": "light"
     },
     "output_type": "display_data"
    }
   ],
   "source": [
    "plt.plot(history.history['accuracy'], label='accuracy')\n",
    "plt.plot(history.history['val_accuracy'], label = 'val_accuracy')\n",
    "plt.xlabel('Epoch')\n",
    "plt.ylabel('Accuracy')\n",
    "plt.ylim([0.5, 1])\n",
    "plt.legend(loc='lower right')\n",
    "\n",
    "test_loss, test_acc = model.evaluate(X_test,  y_test, verbose=2)"
   ]
  },
  {
   "cell_type": "code",
   "execution_count": 44,
   "id": "1fe1f98e",
   "metadata": {
    "scrolled": true
   },
   "outputs": [
    {
     "data": {
      "image/png": "[encoded data removed]",
      "text/plain": [
       "<Figure size 432x288 with 1 Axes>"
      ]
     },
     "metadata": {
      "needs_background": "light"
     },
     "output_type": "display_data"
    }
   ],
   "source": [
    "plt.plot(history.history['loss'])\n",
    "plt.plot(history.history['val_loss'])\n",
    "plt.title('model loss')\n",
    "plt.ylabel('loss')\n",
    "plt.xlabel('epoch')\n",
    "plt.legend(['loss', 'val_loss'], loc='upper left')\n",
    "plt.show()"
   ]
  },
  {
   "cell_type": "markdown",
   "id": "d459d9da",
   "metadata": {},
   "source": [
    "# Conclusion\n",
    "\n",
    "On the whole, this model can help to identify males and females with around 87% accuracy which can further improve with different techniques. It was fairly a simple example where computers learned to identify images of males and females. Various complex datasets are available online which require complex techniques involving augmentations"
   ]
  },
  {
   "cell_type": "code",
   "execution_count": null,
   "id": "bab7dded",
   "metadata": {},
   "outputs": [],
   "source": []
  }
 ],
 "metadata": {
  "kernelspec": {
   "display_name": "Python 3",
   "language": "python",
   "name": "python3"
  },
  "language_info": {
   "codemirror_mode": {
    "name": "ipython",
    "version": 3
   },
   "file_extension": ".py",
   "mimetype": "text/x-python",
   "name": "python",
   "nbconvert_exporter": "python",
   "pygments_lexer": "ipython3",
   "version": "3.8.8"
  }
 },
 "nbformat": 4,
 "nbformat_minor": 5
}
